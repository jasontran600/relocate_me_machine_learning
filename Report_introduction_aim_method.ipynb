{
 "cells": [
  {
   "cell_type": "markdown",
   "metadata": {},
   "source": [
    "# A machine learning unsupervised learning approach for city migration\n",
    "\n",
    "## Introduction\n",
    "\n",
    "Melbourne and Sydney are the two biggest cities in Australia and [housing affordability and congestion is increasing for both cities](https://www.abc.net.au/news/2018-01-22/australian-housing-unaffordability-experts-disagree-on-extent/9349796) (although Sydney is significantly greater). Although once considered as one of the retirement villages of Australia, the [recent demographic data](https://theconversation.com/meet-the-new-seachangers-now-its-younger-australians-moving-out-of-the-big-cities-103762) suggests that there is a large population of younger groups, including young families, migrating to Tasmania (“hello Tassie!”). Housing affordability, traffic and other forms of congestion that affect lifestyle and amenity are often cited as the reasons for leaving Melbourne and Sydney.\n",
    "\n",
    "## Aim\n",
    "For this project, my aim is to help those who are considering in moving to Tasmania from Melbourne or Sydney and to help them find either similar or dissimilar suburbs from their hometown. I aim to implement an unsupervised learning approach (e.g. clustering algorithm) to find similar and dissimilar suburbs between Sydney, Melbourne and Hobart where similarities are based on the local popular venues.\n",
    "\n",
    "## Method\n",
    "In order to do this, I will scrape the local suburbs and their postcodes for each capital city from different sources with BeautifulSoup. Suburbs will be grouped according to their postcodes. Therefore, some postcodes will have multiple suburbs. The list of suburbs for Melbourne is structured as a table on [Wikipedia](https://en.wikipedia.org/wiki/List_of_Melbourne_suburbs), the list of suburbs for Sydney are listed as an unstructured table on a directory website [alphabetically](https://www.intosydneydirectory.com.au/sydney-postcodes.php). Postcodes associated with Hobart will be scraped from a seperate [source](https://postcodes-australia.com/areas/tas/tasmania/hobart) and then used to identify the appropriate suburbs from a structured table in [Wikipedia](https://en.wikipedia.org/wiki/List_of_localities_in_Tasmania). Therefore a three different scripts will be written for each city in order to successfully collect the postcodes and the associated suburbs. The data will then we organised into a single dataframe with Pandas.\n",
    "\n",
    "Following on, the latitude and longitude coordinates for each postcode will be extracted from Google Maps Geocoding, which will then be added to the list of suburbs dataframe.\n",
    "Then, the [Foursquare API](https://developer.foursquare.com/) will be used to find the top 100 venues within 500 m for each suburb, the [Domain API](https://developer.domain.com.au/docs/introduction) will be used to find and calculate the mean property value in each suburb. And lastly, crime statistics will be extracted from the [data government website](https://data.gov.au/dataset/ds-sa-860126f7-eeb5-4fbc-be44-069aa0467d11/details?q=). The data for each entry will added as a new column to the suburbs dataframe. Hot-encoding and descriptive techniques will be used to either extend or wrangle the acquired datasets.\n",
    "\n",
    "Lastly, to determine the similarity and dissimilarity of each suburb from each other a clustering algorithm (k-means clustering) will be implemented to segment the similar suburbs. The clusters will be investigated individually to understand the common thread for each suburb with the cluster."
   ]
  },
  {
   "cell_type": "code",
   "execution_count": null,
   "metadata": {},
   "outputs": [],
   "source": []
  }
 ],
 "metadata": {
  "kernelspec": {
   "display_name": "Python 3",
   "language": "python",
   "name": "python3"
  },
  "language_info": {
   "codemirror_mode": {
    "name": "ipython",
    "version": 3
   },
   "file_extension": ".py",
   "mimetype": "text/x-python",
   "name": "python",
   "nbconvert_exporter": "python",
   "pygments_lexer": "ipython3",
   "version": "3.7.3"
  }
 },
 "nbformat": 4,
 "nbformat_minor": 2
}
